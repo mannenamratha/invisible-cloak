{
  "nbformat": 4,
  "nbformat_minor": 0,
  "metadata": {
    "colab": {
      "provenance": [],
      "authorship_tag": "ABX9TyM7jaFpkRk2gN0qELWcRjJF",
      "include_colab_link": true
    },
    "kernelspec": {
      "name": "python3",
      "display_name": "Python 3"
    },
    "language_info": {
      "name": "python"
    }
  },
  "cells": [
    {
      "cell_type": "markdown",
      "metadata": {
        "id": "view-in-github",
        "colab_type": "text"
      },
      "source": [
        "<a href=\"https://colab.research.google.com/github/mannenamratha/invisible-cloak/blob/main/invisible_cloak.ipynb\" target=\"_parent\"><img src=\"https://colab.research.google.com/assets/colab-badge.svg\" alt=\"Open In Colab\"/></a>"
      ]
    },
    {
      "cell_type": "code",
      "execution_count": 4,
      "metadata": {
        "colab": {
          "base_uri": "https://localhost:8080/"
        },
        "id": "oGae629tdTP6",
        "outputId": "68ff9abd-f2ae-43ea-f04b-de5b246ca5f0"
      },
      "outputs": [
        {
          "output_type": "stream",
          "name": "stdout",
          "text": [
            "OpenCV version: 4.10.0\n",
            "Error: Could not open camera.\n"
          ]
        }
      ],
      "source": [
        "import cv2\n",
        "import numpy as np\n",
        "import time\n",
        "\n",
        "def create_background(cap, num_frames=30):\n",
        "    print(\"Capturing background. Please move out of frame.\")\n",
        "    backgrounds = []\n",
        "    for i in range(num_frames):\n",
        "        ret, frame = cap.read()\n",
        "        if ret:\n",
        "            backgrounds.append(frame)\n",
        "        else:\n",
        "            print(f\"Warning: Could not read frame {i+1}/{num_frames}\")\n",
        "        time.sleep(0.1)\n",
        "    if backgrounds:\n",
        "        return np.median(backgrounds, axis=0).astype(np.uint8)\n",
        "    else:\n",
        "        raise ValueError(\"Could not capture any frames for background\")\n",
        "\n",
        "def create_mask(frame, lower_color, upper_color):\n",
        "    hsv = cv2.cvtColor(frame, cv2.COLOR_BGR2HSV)\n",
        "    mask = cv2.inRange(hsv, lower_color, upper_color)\n",
        "    mask = cv2.morphologyEx(mask, cv2.MORPH_OPEN, np.ones((3, 3), np.uint8), iterations=2)\n",
        "    mask = cv2.morphologyEx(mask, cv2.MORPH_DILATE, np.ones((3, 3), np.uint8), iterations=1)\n",
        "    return mask\n",
        "\n",
        "def apply_cloak_effect(frame, mask, background):\n",
        "    mask_inv = cv2.bitwise_not(mask)\n",
        "    fg = cv2.bitwise_and(frame, frame, mask=mask_inv)\n",
        "    bg = cv2.bitwise_and(background, background, mask=mask)\n",
        "    return cv2.add(fg, bg)\n",
        "\n",
        "def main():\n",
        "    print(\"OpenCV version:\", cv2.__version__)\n",
        "\n",
        "    cap = cv2.VideoCapture(0)\n",
        "\n",
        "    if not cap.isOpened():\n",
        "        print(\"Error: Could not open camera.\")\n",
        "        return\n",
        "\n",
        "    try:\n",
        "        background = create_background(cap)\n",
        "    except ValueError as e:\n",
        "        print(f\"Error: {e}\")\n",
        "        cap.release()\n",
        "        return\n",
        "\n",
        "    # Define the HSV range for the pink color\n",
        "    lower_pink = np.array([160, 100, 100])\n",
        "    upper_pink = np.array([180, 255, 255])\n",
        "\n",
        "    print(\"Starting main loop. Press 'q' to quit.\")\n",
        "    while True:\n",
        "        ret, frame = cap.read()\n",
        "        if not ret:\n",
        "            print(\"Error: Could not read frame.\")\n",
        "            time.sleep(1)\n",
        "            continue\n",
        "\n",
        "        mask = create_mask(frame, lower_pink, upper_pink)\n",
        "        result = apply_cloak_effect(frame, mask, background)\n",
        "\n",
        "        cv2.imshow('Invisible Cloak', result)\n",
        "\n",
        "        if cv2.waitKey(1) & 0xFF == ord('q'):\n",
        "            break\n",
        "\n",
        "    cap.release()\n",
        "    cv2.destroyAllWindows()\n",
        "\n",
        "if __name__ == \"__main__\":\n",
        "    main()"
      ]
    }
  ]
}